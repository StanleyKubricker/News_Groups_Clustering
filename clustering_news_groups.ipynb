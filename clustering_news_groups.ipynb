{
 "cells": [
  {
   "cell_type": "markdown",
   "id": "401b2035-b3bb-4e7b-a83d-15dc3200b885",
   "metadata": {},
   "source": [
    "## Automated clustering of articles from The 20 newsgroups text dataset\n",
    "\n",
    "Dataset available from https://scikit-learn.org/0.19/datasets/twenty_newsgroups.html\n",
    "\n",
    "This code retrieves and prepares the dataset, uses SVD to reduce dimensionality, automatically selects the optimal number of clusters (based on evaluation metrics) and peforms clustering before displaying the outputs for interpretation."
   ]
  },
  {
   "cell_type": "code",
   "execution_count": 1,
   "id": "27315b39-ecaf-4d36-9cad-f13c67b74a10",
   "metadata": {
    "execution": {
     "iopub.execute_input": "2022-12-20T12:16:23.308944Z",
     "iopub.status.busy": "2022-12-20T12:16:23.308404Z",
     "iopub.status.idle": "2022-12-20T12:16:23.865375Z",
     "shell.execute_reply": "2022-12-20T12:16:23.864486Z",
     "shell.execute_reply.started": "2022-12-20T12:16:23.308928Z"
    }
   },
   "outputs": [],
   "source": [
    "#Import modules\n",
    "from sklearn.datasets import fetch_20newsgroups\n",
    "import numpy as np\n",
    "import random\n",
    "random.seed(39)\n",
    "from sklearn.decomposition import TruncatedSVD\n",
    "from sklearn.pipeline import make_pipeline\n",
    "from sklearn.preprocessing import Normalizer\n",
    "from sklearn.feature_extraction.text import TfidfVectorizer\n",
    "from sklearn.cluster import KMeans\n",
    "from sklearn import metrics\n",
    "from operator import itemgetter"
   ]
  },
  {
   "cell_type": "markdown",
   "id": "dc1f92ac-2b2f-4e7e-adc0-8f9f0827bbab",
   "metadata": {},
   "source": [
    "### Load and prepare dataset"
   ]
  },
  {
   "cell_type": "code",
   "execution_count": 2,
   "id": "e9c7bad5-877c-468e-b78c-d931cd0a8434",
   "metadata": {
    "execution": {
     "iopub.execute_input": "2022-12-20T12:16:23.867231Z",
     "iopub.status.busy": "2022-12-20T12:16:23.866749Z",
     "iopub.status.idle": "2022-12-20T12:16:25.658173Z",
     "shell.execute_reply": "2022-12-20T12:16:25.657360Z",
     "shell.execute_reply.started": "2022-12-20T12:16:23.867231Z"
    }
   },
   "outputs": [],
   "source": [
    "#Load in 20 news groups data\n",
    "newsgroups_data = fetch_20newsgroups(subset = 'all', remove = ('headers','footers','quotes'), shuffle = True)"
   ]
  },
  {
   "cell_type": "code",
   "execution_count": 3,
   "id": "b4ee65da-53e9-4c84-9409-2466c8b664d8",
   "metadata": {
    "execution": {
     "iopub.execute_input": "2022-12-20T12:16:25.659482Z",
     "iopub.status.busy": "2022-12-20T12:16:25.659229Z",
     "iopub.status.idle": "2022-12-20T12:16:25.743521Z",
     "shell.execute_reply": "2022-12-20T12:16:25.742794Z",
     "shell.execute_reply.started": "2022-12-20T12:16:25.659406Z"
    }
   },
   "outputs": [],
   "source": [
    "#Get the data and labels for each article and zip them together, before shuffling\n",
    "all_news_data = list(zip(newsgroups_data.data, newsgroups_data.target))\n",
    "random.shuffle(all_news_data)\n",
    "\n",
    "#Get all data and labels\n",
    "X_raw = [text for (text, label) in all_news_data]\n",
    "y_raw = [label for (text, label) in all_news_data]"
   ]
  },
  {
   "cell_type": "markdown",
   "id": "d3f7baba-f246-4a4a-af74-a45ded3e1579",
   "metadata": {},
   "source": [
    "### Singular Value Decomposition dimensionality reduction"
   ]
  },
  {
   "cell_type": "code",
   "execution_count": 4,
   "id": "0dda01ba-bd89-4296-8fd6-bb9b76e64d2f",
   "metadata": {
    "execution": {
     "iopub.execute_input": "2022-12-20T12:16:25.745096Z",
     "iopub.status.busy": "2022-12-20T12:16:25.744791Z",
     "iopub.status.idle": "2022-12-20T12:16:41.982114Z",
     "shell.execute_reply": "2022-12-20T12:16:41.981381Z",
     "shell.execute_reply.started": "2022-12-20T12:16:25.745009Z"
    }
   },
   "outputs": [],
   "source": [
    "#SVD to reduce dimensionality\n",
    "\n",
    "#Instantiate vectorizer\n",
    "#Ignore terms that appear in fewer than 2 documents (too rare to be of value)\n",
    "#Ignore terms that appear in more than 50% of documents (too common to be of value)\n",
    "#Ignore English stopwords\n",
    "vectorizer = TfidfVectorizer(min_df=2, max_df=0.5, stop_words='english', use_idf=True)\n",
    "\n",
    "#Define function to take input data and transform to data of a given number of dimensions\n",
    "def transform_data(input_data, output_dimensions):\n",
    "    vectorized_data = vectorizer.fit_transform(input_data)\n",
    "    #Instantiate SVD instance of desired dimensions\n",
    "    svd = TruncatedSVD(output_dimensions)\n",
    "    pipeline = make_pipeline(svd, Normalizer(copy = False))\n",
    "    #Reduce dimensionality of data using pipeline\n",
    "    reduced_data = pipeline.fit_transform(vectorized_data)\n",
    "    \n",
    "    return reduced_data, svd\n",
    "\n",
    "#Reduce dataset\n",
    "X_reduced, svd = transform_data(X_raw, 300)"
   ]
  },
  {
   "cell_type": "markdown",
   "id": "bd1fe816-ee75-4460-80ee-c5ca2c1007e9",
   "metadata": {},
   "source": [
    "### Grid Search to find optimal number of clusters"
   ]
  },
  {
   "cell_type": "code",
   "execution_count": 5,
   "id": "5356fbd1-a9d6-408d-bcde-0295abf73d94",
   "metadata": {
    "execution": {
     "iopub.execute_input": "2022-12-20T12:16:41.983977Z",
     "iopub.status.busy": "2022-12-20T12:16:41.983720Z",
     "iopub.status.idle": "2022-12-20T12:18:20.860039Z",
     "shell.execute_reply": "2022-12-20T12:18:20.858999Z",
     "shell.execute_reply.started": "2022-12-20T12:16:41.983953Z"
    }
   },
   "outputs": [],
   "source": [
    "#Search for the optimal number of clusters for the KMeans algorithm to find\n",
    "#List to store tuples of (number of clusters, v measure score) \n",
    "v_measures = []\n",
    "\n",
    "#Find v measure score for 2 to 20 clusters\n",
    "for i in range(2,25):\n",
    "    #Instantiate a KMeans model\n",
    "    km_model = KMeans(n_clusters = i, random_state = 20)\n",
    "\n",
    "    #Fit model to reduced dataset\n",
    "    km_model = km_model.fit(X_reduced)\n",
    "    \n",
    "    #Find v measure score for current number of clusters and append\n",
    "    v_measure = metrics.v_measure_score(y_raw, km_model.labels_)\n",
    "    v_measures.append((i, v_measure))\n",
    "\n",
    "#Optimal number of clusters defined as the number of clusters which gives the highest v measure score\n",
    "optimal_k = max(v_measures, key = itemgetter(1))[0]"
   ]
  },
  {
   "cell_type": "markdown",
   "id": "e73fd20b-9a5e-4dd6-8551-d999153a5a10",
   "metadata": {},
   "source": [
    "### Train final model"
   ]
  },
  {
   "cell_type": "code",
   "execution_count": 6,
   "id": "4c5b9686-5cc4-458d-a63b-d3c74f552f11",
   "metadata": {
    "execution": {
     "iopub.execute_input": "2022-12-20T12:18:20.861546Z",
     "iopub.status.busy": "2022-12-20T12:18:20.861265Z",
     "iopub.status.idle": "2022-12-20T12:18:26.108768Z",
     "shell.execute_reply": "2022-12-20T12:18:26.108032Z",
     "shell.execute_reply.started": "2022-12-20T12:18:20.861518Z"
    }
   },
   "outputs": [],
   "source": [
    "#Instantiate final KMeans model using optimal number of clusters found previously\n",
    "km_model_final = KMeans(n_clusters = optimal_k, random_state = 39)\n",
    "\n",
    "#Fit final KMeans model \n",
    "km_model_final = km_model_final.fit(X_reduced)"
   ]
  },
  {
   "cell_type": "markdown",
   "id": "eb2dbfcd-c754-4feb-b75d-3a3f1c18c0b3",
   "metadata": {},
   "source": [
    "### Evaluate model performance and present results for interpretation\n",
    "\n",
    "#### Homogeneity Score: Measures the extent to which each cluster only contains members of a single class\n",
    "\n",
    "$ Homogeneity = 1 - \\frac{S(C|K)}{S(C)} $\n",
    "\n",
    "#### Completeness Score: Measures the extent to which all members of a class are assigned to the same cluster\n",
    "\n",
    "$ Completeness = 1 - \\frac{S(K|C)}{S(K)} $\n",
    "\n",
    "Where S(A|B) is the conditional entropy of A given B and S(A) is the conditional entropy of A.\n",
    "\n",
    "$ S(C|K) = - \\sum_{c = 1}^{|C|} \\sum_{k = 1}^{K} \\frac{n_{c,k}}{n} \\times log\\frac{n_{c,k}}{n_{k}} $\n",
    "\n",
    "$ S(C|K) = - \\sum_{k = 1}^{|K|} \\sum_{c = 1}^{C} \\frac{n_{c,k}}{n} \\times log\\frac{n_{c,k}}{n_{c}} $\n",
    "\n",
    "$ S(C) = - \\sum_{c = 1}^{|C|} \\frac{n_{c}}{n} \\times log\\frac{n_{c}}{n} $\n",
    "\n",
    "$ S(K) = - \\sum_{k = 1}^{|K|} \\frac{n_{k}}{n} \\times log\\frac{n_{k}}{n} $\n",
    "\n",
    "#### V-Measure Score: Harmonic mean of homogeneity and completeness\n",
    "\n",
    "#### Most discriminative words for esach cluster are presented below for interpretation of the topic of each cluster"
   ]
  },
  {
   "cell_type": "code",
   "execution_count": 7,
   "id": "54e41ac8-0a39-4d73-9887-b5bd9d3767cd",
   "metadata": {
    "execution": {
     "iopub.execute_input": "2022-12-20T12:18:26.109973Z",
     "iopub.status.busy": "2022-12-20T12:18:26.109729Z",
     "iopub.status.idle": "2022-12-20T12:18:26.138058Z",
     "shell.execute_reply": "2022-12-20T12:18:26.137423Z",
     "shell.execute_reply.started": "2022-12-20T12:18:26.109944Z"
    }
   },
   "outputs": [
    {
     "name": "stdout",
     "output_type": "stream",
     "text": [
      "Model Evaluation\n",
      "Homogenity Score: 0.32788752966947354\n",
      "Completeness Score: 0.36287137206862946\n",
      "V-Measure Score: 0.34449356345889326\n"
     ]
    }
   ],
   "source": [
    "#Evaluate performance of final model\n",
    "homogeneity_score = metrics.homogeneity_score(y_raw, km_model_final.labels_)\n",
    "completeness_score = metrics.completeness_score(y_raw, km_model_final.labels_)\n",
    "v_measure_score = metrics.v_measure_score(y_raw, km_model_final.labels_)\n",
    "\n",
    "print(f'''Model Evaluation\n",
    "Homogenity Score: {homogeneity_score}\n",
    "Completeness Score: {completeness_score}\n",
    "V-Measure Score: {v_measure_score}''')"
   ]
  },
  {
   "cell_type": "code",
   "execution_count": 8,
   "id": "b495bcda-ce62-42ee-a085-8a34927e20d4",
   "metadata": {
    "execution": {
     "iopub.execute_input": "2022-12-20T12:18:26.139728Z",
     "iopub.status.busy": "2022-12-20T12:18:26.139040Z",
     "iopub.status.idle": "2022-12-20T12:18:26.438758Z",
     "shell.execute_reply": "2022-12-20T12:18:26.437725Z",
     "shell.execute_reply.started": "2022-12-20T12:18:26.139701Z"
    }
   },
   "outputs": [
    {
     "name": "stdout",
     "output_type": "stream",
     "text": [
      "Cluster 1: \n",
      "edu cs university geb pitt n3jxp chastity dsl cadre intellect gordon skepticism shameful banks surrender mail soon mit email internet send uiuc article ftp cc thanks know pub don colorado does david indiana virginia just info au use like lcs cica good 1993 think export information reply apr andrew news \n",
      "\n",
      "Cluster 2: \n",
      "like just bike space use time good used power way new ve know high don low long right orbit make got light ground earth going thing little engine shuttle need work problem years cost really launch want probably sure does actually big think moon water ll small ride things better \n",
      "\n",
      "Cluster 3: \n",
      "fbi koresh batf compound children gas did government warrant davidians agents atf waco people bd started evidence tear cult clinton assault said weapons place raid reno building believe press know just think federal david didn like branch illegal don tanks suicide law news inside killed point story search followers time \n",
      "\n",
      "Cluster 4: \n",
      "people government don just right like think know time make rights want state things person world does way good say going did ve point law let money tell believe use read actually said really thing ll fact life lot sure real live years little gay militia maybe group long country \n",
      "\n",
      "Cluster 5: \n",
      "don think just know say like said right did make really way good time want believe religion ve evidence things wrong question does fact point case ll doesn true mean post sure agree read better people let didn course mr claim come moral life thing going statement world years use \n",
      "\n",
      "Cluster 6: \n",
      "doctor medical disease msg pain cancer patients drug cause treatment drugs food health candida yeast patient medicine know body like effects people told effect kidney having infection good problem ve study doctors chronic diet evidence don information time does use symptoms research years surgery clinical just friend blood syndrome help \n",
      "\n",
      "Cluster 7: \n",
      "car cars engine dealer ford new miles like good just know don speed ve oil think clutch driving does owner time rear power price drive tires year buy problem convertible insurance really 000 auto mileage used small driver manual bought way toyota right better make bad got safety need honda \n",
      "\n",
      "Cluster 8: \n",
      "does just new use card computer ve good apple know sure number got did heard time need post board problem read like mac want try monitor phone looking article make mail used work list right bit actually deleted ll speed data tell really pc video yes stuff going doesn old \n",
      "\n",
      "Cluster 9: \n",
      "jesus church christian bible christ christians god faith people christianity believe catholic sin does think say did life time word book don religion know mary paul fact scripture true point read like heaven man love way lord truth john said just things books good question doctrine mean body new belief \n",
      "\n",
      "Cluster 10: \n",
      "god believe jesus faith bible sin people christ does man lord say existence know belief hell love just christians don heaven life things think atheism truth way exist like son eternal word atheists good world spirit said satan father time human true mary atheist religion christian exists reason come make \n",
      "\n",
      "Cluster 11: \n",
      "com netcom feustel ibm handheld jmd jim list compuserve sun mail dave email n9myi hp don article address shearson like tek perry pmetzger ve paul just metzger edu ca bob reply thanks time phone right does corp ico bobbe try know addresses beauchaine austin queens bronx want sank manhattan mark \n",
      "\n",
      "Cluster 12: \n",
      "game games espn hockey baseball night play pens don year goal time series team think fans like win caps just blues sabres devils season score detroit playoffs buffalo coverage players boston really did going hit leafs bruins played player isles scored wings hawks overtime abc bad playoff great good toronto \n",
      "\n",
      "Cluster 13: \n",
      "key encryption chip clipper keys government escrow algorithm nsa use des phone security secure public encrypted privacy crypto secret law chips enforcement just don phones data message bit wiretap number used scheme pgp using agencies know technology people rsa serial think way make private like court session bits time communications \n",
      "\n",
      "Cluster 14: \n",
      "windows file files program dos use using problem running like software version help graphics server run know pc does image ftp code os screen format display unix card need work memory available motif ms ve application thanks just set machine drivers don fonts hi programs sun directory used gif driver \n",
      "\n",
      "Cluster 15: \n",
      "thanks know advance does mail hi looking help info information like anybody email appreciated appreciate interested need hello card use post address ftp ve software send wondering good tell work reply graphics new program mac using greatly just don pc list used source monitor want video site question problem net \n",
      "\n",
      "Cluster 16: \n",
      "armenian armenians turkish genocide turkey armenia turks soviet russian muslim people population serdar government greek azerbaijan argic ottoman said million children war villages kurds killed azeri army women nazi history 1914 source soldiers greece istanbul empire 000 republic did massacre karabakh men university dead kurdish slaughter world paragraph dro today \n",
      "\n",
      "Cluster 17: \n",
      "drive scsi drives hard ide disk controller floppy mac cd hd meg thanks problem bus software tape mb external use just internal boot seagate rom card bios dos new know problems need like pc computer ram does work apple format ve cable 25 disks slave data speed quantum power used \n",
      "\n",
      "Cluster 18: \n",
      "window manager application display program use windows using problem server xterm motif set running like user way code size event widget thanks screen root just position expose want font color cursor help know time colormap run title app terminal new events olwm x11r5 client tried right button does file mouse \n",
      "\n",
      "Cluster 19: \n",
      "gun guns control crime police firearms don weapons people criminals law laws criminal self just think rate defense like weapon safety violent make carry likely kill used nra point firearm handgun state deaths right public ve use time know does doesn isn year owners way crimes concealed let cops say \n",
      "\n",
      "Cluster 20: \n",
      "sale 00 offer shipping condition price asking 10 new sell 50 interested excellent 15 25 email 20 best original mail 30 used 12 40 11 box manuals brand edu following like great cd manual 16 old good included obo 100 includes make disks model package power contact selling card games \n",
      "\n",
      "Cluster 21: \n",
      "israel jews israeli arab jewish arabs palestinians palestinian peace israelis state people war land killed adam lebanon anti lebanese palestine just rights gaza like attacks jew human policy soldiers jerusalem right country occupied fact syria said countries don civilians citizens did think way claim states know american world kill territories \n",
      "\n",
      "Cluster 22: \n",
      "team year players season games play player league good hockey hit teams think win nhl baseball better best years time like braves don did runs game stats pitching playing just toronto fans won ll played home rangers fan lot great average detroit morris boston really know second division way got \n",
      "\n"
     ]
    }
   ],
   "source": [
    "#Display the most discriminative words for each cluster\n",
    "\n",
    "#Reverse dimensionality reduction\n",
    "unreduced_centroids = svd.inverse_transform(km_model_final.cluster_centers_)\n",
    "\n",
    "#Order centroids\n",
    "order_centroids = unreduced_centroids.argsort()[:, ::-1]\n",
    "\n",
    "#Get terms associated with each vector / feature\n",
    "terms = vectorizer.get_feature_names_out()\n",
    "\n",
    "#Print the 50 most discriminative words for each cluster\n",
    "for i in range(optimal_k):\n",
    "    print(\"Cluster \" + str(i + 1) + \": \")\n",
    "    cl_terms = \"\"\n",
    "    for ind in order_centroids[i, :50]:\n",
    "        cl_terms += terms[ind] + \" \"\n",
    "    print(cl_terms + \"\\n\")"
   ]
  }
 ],
 "metadata": {
  "kernelspec": {
   "display_name": "Python 3 (ipykernel)",
   "language": "python",
   "name": "python3"
  },
  "language_info": {
   "codemirror_mode": {
    "name": "ipython",
    "version": 3
   },
   "file_extension": ".py",
   "mimetype": "text/x-python",
   "name": "python",
   "nbconvert_exporter": "python",
   "pygments_lexer": "ipython3",
   "version": "3.9.13"
  }
 },
 "nbformat": 4,
 "nbformat_minor": 5
}
